{
 "cells": [
  {
   "cell_type": "code",
   "execution_count": 44,
   "id": "fc537406",
   "metadata": {},
   "outputs": [
    {
     "data": {
      "application/javascript": [
       " IPython.OutputArea.prototype._should_scroll = function(lines) {\n",
       "     return false;\n",
       " }\n"
      ],
      "text/plain": [
       "<IPython.core.display.Javascript object>"
      ]
     },
     "metadata": {},
     "output_type": "display_data"
    }
   ],
   "source": [
    "%%javascript\n",
    " IPython.OutputArea.prototype._should_scroll = function(lines) {\n",
    "     return false;\n",
    " }"
   ]
  },
  {
   "cell_type": "markdown",
   "id": "dae08ee9",
   "metadata": {},
   "source": [
    "# Imports and Loading Data"
   ]
  },
  {
   "cell_type": "code",
   "execution_count": 45,
   "id": "b9ea232f",
   "metadata": {},
   "outputs": [],
   "source": [
    "import pandas as pd\n",
    "import numpy as np\n",
    "from sklearn.preprocessing import OneHotEncoder\n",
    "from sklearn.compose import make_column_transformer\n",
    "from sklearn.preprocessing import MinMaxScaler\n",
    "from sklearn.ensemble import RandomForestClassifier\n",
    "from sklearn.metrics import accuracy_score\n",
    "from sklearn.metrics import precision_score\n",
    "import warnings"
   ]
  },
  {
   "cell_type": "code",
   "execution_count": 46,
   "id": "729460d5",
   "metadata": {},
   "outputs": [],
   "source": [
    "# import warnings filter\n",
    "from warnings import simplefilter\n",
    "# ignores warnings\n",
    "warnings.simplefilter(action='ignore', category=Warning)"
   ]
  },
  {
   "cell_type": "code",
   "execution_count": 47,
   "id": "49ef041d",
   "metadata": {},
   "outputs": [],
   "source": [
    "# Constant variables for splitting data into test and train datasets\n",
    "ALL_SEASONS = \"2014-23\"\n",
    "TEST_TRAIN_SEASON_SPLIT = \"2022-23\""
   ]
  },
  {
   "cell_type": "code",
   "execution_count": 48,
   "id": "5605c9c4",
   "metadata": {},
   "outputs": [],
   "source": [
    "# Loading match data\n",
    "matches_df = pd.read_csv(f\"data/calculatedData/Calculated - {ALL_SEASONS}.csv\", index_col=0)\n",
    "\n",
    "# Loading odds data\n",
    "odds_df = pd.read_csv(f\"data/oddsData/Odds - {ALL_SEASONS}.csv\")"
   ]
  },
  {
   "cell_type": "markdown",
   "id": "7381448a",
   "metadata": {},
   "source": [
    "# Formatting and Cleaning Data"
   ]
  },
  {
   "cell_type": "code",
   "execution_count": 49,
   "id": "bde9fa0f",
   "metadata": {},
   "outputs": [],
   "source": [
    "matches_df[\"date\"] = pd.to_datetime(matches_df[\"date\"])\n",
    "# Retains both team names after one hot encoding takes place\n",
    "matches_df[\"team\"] = matches_df[\"team1Name\"]\n",
    "matches_df[\"opponent\"] = matches_df[\"team2Name\"]\n",
    "\n",
    "odds_df[\"date\"] = pd.to_datetime(odds_df[\"date\"])"
   ]
  },
  {
   "cell_type": "code",
   "execution_count": 50,
   "id": "427df697",
   "metadata": {},
   "outputs": [],
   "source": [
    "# Merges match data with odds data\n",
    "matches_df = pd.merge(matches_df, odds_df, how = \"left\", on=[\"date\", \"team\", \"opponent\"])\n",
    "\n",
    "# Selects which odds column to use as a feature\n",
    "matches_df[\"oddsFeature\"] = matches_df[\"opponentOdds\"]"
   ]
  },
  {
   "cell_type": "code",
   "execution_count": 51,
   "id": "24bd2679",
   "metadata": {},
   "outputs": [],
   "source": [
    "# For filtering out columns that won't be used as features\n",
    "main_features_exclude = [\"team\", \"opponent\", \"season\", \"date\", \"team1Name\", \"team2Name\", \"venue\", \"teamType\",\n",
    "                         \"referee\", \"result\", \"day\", \"month\", \"targetCode\", \"avgLast5BpsTeam1\",\n",
    "                         \"avgLast5BpsAgainstTeam1\", \"avgLast5BpsTeam2\", \"avgLast5BpsAgainstTeam2\",\n",
    "                         \"avgLast5TriesTeam1\", \"avgLast5ConversionsTeam1\", \"avgLast5PenaltiesTeam1\",\n",
    "                         \"avgLast5DropGoalsTeam1\", \"avgLast5TriesAgainstTeam1\", \"avgLast5ConversionsAgainstTeam1\",\n",
    "                         \"avgLast5PenaltiesAgainstTeam1\", \"avgLast5DropGoalsAgainstTeam1\", \"avgLast5TriesTeam2\",\n",
    "                         \"avgLast5ConversionsTeam2\", \"avgLast5PenaltiesTeam2\", \"avgLast5DropGoalsTeam2\",\n",
    "                         \"avgLast5TriesAgainstTeam2\", \"avgLast5ConversionsAgainstTeam2\",\n",
    "                         \"avgLast5PenaltiesAgainstTeam2\", \"avgLast5DropGoalsAgainstTeam2\", \"teamOdds\", \"drawOdds\",\n",
    "                         \"opponentOdds\"]\n",
    "\n",
    "# For filtering out smaller subset of columns that won't be used as features - for second iteration of prediction modelling\n",
    "extended_features_exclude = [\"team\", \"opponent\", \"season\", \"date\", \"team1Name\", \"team2Name\", \"venue\", \"teamType\",\n",
    "                             \"referee\", \"result\", \"day\", \"month\", \"targetCode\", \"teamOdds\", \"drawOdds\",\n",
    "                             \"opponentOdds\"]"
   ]
  },
  {
   "cell_type": "code",
   "execution_count": 52,
   "id": "a72baef5",
   "metadata": {},
   "outputs": [
    {
     "data": {
      "text/plain": [
       "Index(['avgLast5ScoresTeam1', 'avgLast5ScoresAgainstTeam1',\n",
       "       'avgLast5ScoresTeam2', 'avgLast5ScoresAgainstTeam2', 'wonLastGameTeam1',\n",
       "       'wonLastGameTeam2', 'team1LastSeasonStanding',\n",
       "       'team2LastSeasonStanding', 'oddsFeature'],\n",
       "      dtype='object')"
      ]
     },
     "execution_count": 52,
     "metadata": {},
     "output_type": "execute_result"
    }
   ],
   "source": [
    "# Creates list of columns that will be used as features\n",
    "main_features = matches_df.columns[~matches_df.columns.isin(main_features_exclude)]\n",
    "main_features"
   ]
  },
  {
   "cell_type": "code",
   "execution_count": 53,
   "id": "11c5d9bf",
   "metadata": {},
   "outputs": [],
   "source": [
    "# Scales numeric columns\n",
    "scaler = MinMaxScaler()\n",
    "matches_df[main_features] = scaler.fit_transform(matches_df[main_features])"
   ]
  },
  {
   "cell_type": "code",
   "execution_count": 54,
   "id": "8af676f0",
   "metadata": {},
   "outputs": [],
   "source": [
    "# One hot encode categorical columns\n",
    "transformer = make_column_transformer(\n",
    "    (OneHotEncoder(sparse = False), ['team1Name', 'team2Name', 'venue', 'month']),\n",
    "    remainder = 'passthrough')\n",
    "\n",
    "# Creates new dataframe with one hot encoded columns\n",
    "transformed = transformer.fit_transform(matches_df)\n",
    "matches_one_hot_encoded_df = pd.DataFrame(\n",
    "    transformed, \n",
    "    columns = transformer.get_feature_names()\n",
    ")"
   ]
  },
  {
   "cell_type": "code",
   "execution_count": 55,
   "id": "b642edb4",
   "metadata": {},
   "outputs": [],
   "source": [
    "# Convert numeric columns back to numeric values\n",
    "numeric_columns = [i for i in matches_one_hot_encoded_df.columns if i not in [\"date\", \"team\", \"opponent\", \"team1Name\",\n",
    "                                                                              \"team2Name\", \"season\", \"venue\",\n",
    "                                                                              \"teamType\", \"day\", \"month\", \"referee\",\n",
    "                                                                              \"result\"]]\n",
    "for column in numeric_columns:\n",
    "    matches_one_hot_encoded_df[column] = pd.to_numeric(matches_one_hot_encoded_df[column])"
   ]
  },
  {
   "cell_type": "code",
   "execution_count": 56,
   "id": "1c89b5e3",
   "metadata": {},
   "outputs": [],
   "source": [
    "# Gets columns to use as features - including one hot encoded columns\n",
    "main_features = matches_one_hot_encoded_df.columns[~matches_one_hot_encoded_df.columns.isin(main_features_exclude)].tolist()\n",
    "extended_features = matches_one_hot_encoded_df.columns[~matches_one_hot_encoded_df.columns.isin(extended_features_exclude)].tolist()"
   ]
  },
  {
   "cell_type": "markdown",
   "id": "9c356451",
   "metadata": {},
   "source": [
    "# Training Model and Generating Predictions"
   ]
  },
  {
   "cell_type": "code",
   "execution_count": 57,
   "id": "92277441",
   "metadata": {},
   "outputs": [],
   "source": [
    "rf = RandomForestClassifier(n_estimators = 100, min_samples_split = 10, random_state = 1)"
   ]
  },
  {
   "cell_type": "code",
   "execution_count": 58,
   "id": "79ddd52d",
   "metadata": {},
   "outputs": [],
   "source": [
    "train = matches_one_hot_encoded_df[matches_one_hot_encoded_df[\"season\"] != TEST_TRAIN_SEASON_SPLIT]\n",
    "test = matches_one_hot_encoded_df[matches_one_hot_encoded_df[\"season\"] == TEST_TRAIN_SEASON_SPLIT]"
   ]
  },
  {
   "cell_type": "code",
   "execution_count": 59,
   "id": "7dc4450b",
   "metadata": {},
   "outputs": [
    {
     "data": {
      "text/plain": [
       "RandomForestClassifier(min_samples_split=10, random_state=1)"
      ]
     },
     "execution_count": 59,
     "metadata": {},
     "output_type": "execute_result"
    }
   ],
   "source": [
    "# Fits model using training dataset with main_features, with the targetColumn as the goal to predict\n",
    "rf.fit(train[main_features], train[\"targetCode\"])"
   ]
  },
  {
   "cell_type": "code",
   "execution_count": 60,
   "id": "a07be5f5",
   "metadata": {},
   "outputs": [],
   "source": [
    "# Generates predictions using test dataset with main_features\n",
    "predictions = rf.predict(test[main_features])"
   ]
  },
  {
   "cell_type": "code",
   "execution_count": 61,
   "id": "daff4b1d",
   "metadata": {},
   "outputs": [],
   "source": [
    "# Calculates accuracy and precision scores from predictions\n",
    "accuracy = accuracy_score(test[\"targetCode\"], predictions)\n",
    "precision = precision_score(test[\"targetCode\"], predictions)"
   ]
  },
  {
   "cell_type": "code",
   "execution_count": 62,
   "id": "95742f0b",
   "metadata": {},
   "outputs": [],
   "source": [
    "# Combines the actual targetCode values with the predicted targetCode values from test dataset\n",
    "combined_target_codes_df = pd.DataFrame(dict(actual = test[\"targetCode\"], prediction = predictions))\n",
    "\n",
    "# Merges with matches_one_hot_encoded_df and uses some key columns of interest\n",
    "combined_target_codes_df = combined_target_codes_df.merge(matches_one_hot_encoded_df[[\"date\", \"team\", \"opponent\",\n",
    "                                                                                      \"result\", \"teamType\",\n",
    "                                                                                      \"teamOdds\", \"opponentOdds\"]],\n",
    "                                                          left_index=True, right_index=True)"
   ]
  },
  {
   "cell_type": "code",
   "execution_count": 63,
   "id": "935267c3",
   "metadata": {},
   "outputs": [],
   "source": [
    "# Creates dataframe with predictions for both teams on the same row\n",
    "same_row_df = combined_target_codes_df.merge(combined_target_codes_df, left_on = [\"date\", \"team\"],\n",
    "                                             right_on = [\"date\", \"opponent\"])\n",
    "\n",
    "# Filters to remove second row for each match\n",
    "same_row_reduced_df = same_row_df.loc[same_row_df['teamType_x'] == \"home\"]"
   ]
  },
  {
   "cell_type": "code",
   "execution_count": 64,
   "id": "0aeb6353",
   "metadata": {},
   "outputs": [],
   "source": [
    "# Creates new columns to assess predictions\n",
    "same_row_reduced_df['correct_prediction'] = np.where(\n",
    "    (same_row_reduced_df['actual_x'] == same_row_reduced_df['prediction_x'])\n",
    "    & (same_row_reduced_df['actual_y'] == same_row_reduced_df['prediction_y']), True, False)\n",
    "\n",
    "same_row_reduced_df['different_prediction'] = np.where(\n",
    "    same_row_reduced_df['prediction_x'] != same_row_reduced_df['prediction_y'], True, False)\n",
    "\n",
    "same_row_reduced_df['lower_odds_winner'] = np.where(\n",
    "    ((same_row_reduced_df['result_x'] == \"W\")\n",
    "     & (same_row_reduced_df['teamOdds_x'] < same_row_reduced_df['opponentOdds_x'])\n",
    "     | (same_row_reduced_df['result_x'] == \"L\")\n",
    "     & (same_row_reduced_df['teamOdds_x'] > same_row_reduced_df['opponentOdds_x'])), True, False)"
   ]
  },
  {
   "cell_type": "code",
   "execution_count": 65,
   "id": "4c7adf52",
   "metadata": {},
   "outputs": [],
   "source": [
    "same_row_reduced_df.to_csv(f\"data/predictedResults/Predicted Results - {TEST_TRAIN_SEASON_SPLIT} - First Iteration.csv\")"
   ]
  },
  {
   "cell_type": "markdown",
   "id": "cb63501e",
   "metadata": {},
   "source": [
    "# Calculate Prediction Accuracy"
   ]
  },
  {
   "cell_type": "code",
   "execution_count": 66,
   "id": "795a74d9",
   "metadata": {},
   "outputs": [],
   "source": [
    "# Counts of values from various columns\n",
    "count_matches = len(same_row_reduced_df.index)\n",
    "correct_predictions = (same_row_reduced_df.correct_prediction.values == True).sum()\n",
    "home_wins = (same_row_reduced_df.result_x.values == 'W').sum()\n",
    "lower_odds_wins = (same_row_reduced_df.lower_odds_winner.values == True).sum()"
   ]
  },
  {
   "cell_type": "code",
   "execution_count": 67,
   "id": "73499970",
   "metadata": {},
   "outputs": [],
   "source": [
    "# Calculates win accuracy based on various columns\n",
    "correct_percentage = correct_predictions / count_matches\n",
    "home_win_percentage = home_wins / count_matches\n",
    "lower_odds_win_percentage = lower_odds_wins / count_matches"
   ]
  },
  {
   "cell_type": "code",
   "execution_count": 68,
   "id": "bf3f2fa6",
   "metadata": {},
   "outputs": [],
   "source": [
    "# Function for printing analysis of prediction accuracy\n",
    "def print_prediction_accuracy(season, accuracy, precision, correct, home_wins, low_odds_wins):\n",
    "    print(f\"### Season: {season} ###\\n\")\n",
    "    print(f\"Overall Accuracy: {round((accuracy * 100), 2)}%\")\n",
    "    print(f\"Overall Precision: {round((precision * 100), 2)}%\")\n",
    "    print(f\"Home Win Percentage: {round((home_wins * 100), 2)}%\")\n",
    "    print(f\"Lower Odds Win Percentage: {round((low_odds_wins * 100), 2)}%\")\n",
    "    print(f\"Correct Predictions: {round((correct * 100), 2)}%\")"
   ]
  },
  {
   "cell_type": "code",
   "execution_count": 69,
   "id": "891d8b6e",
   "metadata": {},
   "outputs": [
    {
     "name": "stdout",
     "output_type": "stream",
     "text": [
      "### Season: 2022-23 ###\n",
      "\n",
      "Overall Accuracy: 72.37%\n",
      "Overall Precision: 72.0%\n",
      "Home Win Percentage: 67.11%\n",
      "Lower Odds Win Percentage: 71.05%\n",
      "Correct Predictions: 65.79%\n"
     ]
    }
   ],
   "source": [
    "print_prediction_accuracy(TEST_TRAIN_SEASON_SPLIT, accuracy, precision, correct_percentage, home_win_percentage, lower_odds_win_percentage)"
   ]
  },
  {
   "cell_type": "markdown",
   "id": "6d90ac5d",
   "metadata": {},
   "source": [
    "# Runs Further Modelling on Matches Which Had the Same Predicted Outcome for Both Teams"
   ]
  },
  {
   "cell_type": "code",
   "execution_count": 70,
   "id": "134208d7",
   "metadata": {},
   "outputs": [],
   "source": [
    "# Extracts matches where both teams have same outcome and selects date and team name\n",
    "same_prediction_df = same_row_reduced_df.loc[same_row_reduced_df['different_prediction'] == False][['date', 'team_x']]"
   ]
  },
  {
   "cell_type": "code",
   "execution_count": 71,
   "id": "9a3b5500",
   "metadata": {},
   "outputs": [],
   "source": [
    "train_second_iteration = matches_one_hot_encoded_df[matches_one_hot_encoded_df[\"season\"] != TEST_TRAIN_SEASON_SPLIT]\n",
    "test_second_iteration = matches_one_hot_encoded_df[matches_one_hot_encoded_df[\"season\"] == TEST_TRAIN_SEASON_SPLIT]"
   ]
  },
  {
   "cell_type": "code",
   "execution_count": 72,
   "id": "ef3d174f",
   "metadata": {},
   "outputs": [
    {
     "data": {
      "text/plain": [
       "RandomForestClassifier(min_samples_split=10, random_state=1)"
      ]
     },
     "execution_count": 72,
     "metadata": {},
     "output_type": "execute_result"
    }
   ],
   "source": [
    "# Trains model using extended_features\n",
    "rf.fit(train_second_iteration[extended_features], train_second_iteration[\"targetCode\"])"
   ]
  },
  {
   "cell_type": "code",
   "execution_count": 73,
   "id": "8bb34110",
   "metadata": {},
   "outputs": [],
   "source": [
    "# Generates predictions using test_second_iteration dataset with extended_features\n",
    "predictions_second_iteration = rf.predict(test_second_iteration[extended_features])"
   ]
  },
  {
   "cell_type": "code",
   "execution_count": 74,
   "id": "b645a369",
   "metadata": {},
   "outputs": [],
   "source": [
    "# Combines the actual targetCode values with the predicted targetCode values from test_second_iteration dataset\n",
    "combined_target_codes_second_df = pd.DataFrame(dict(actual = test_second_iteration[\"targetCode\"],\n",
    "                                                    prediction = predictions_second_iteration))\n",
    "\n",
    "# Merges with matches_one_hot_encoded_df with a selection of key columns of interest\n",
    "combined_target_codes_second_df = combined_target_codes_second_df.merge(matches_one_hot_encoded_df[[\"date\", \"team\",\n",
    "                                                                                                    \"opponent\",\n",
    "                                                                                                    \"result\",\n",
    "                                                                                                    \"teamType\",\n",
    "                                                                                                    \"teamOdds\",\n",
    "                                                                                                    \"opponentOdds\"]],\n",
    "                                                                        left_index = True, right_index = True)"
   ]
  },
  {
   "cell_type": "code",
   "execution_count": 75,
   "id": "a5f449ba",
   "metadata": {},
   "outputs": [],
   "source": [
    "# Creates dataframe with predictions for both teams on each row\n",
    "same_row_second_df = combined_target_codes_second_df.merge(combined_target_codes_second_df, left_on=[\"date\", \"team\"],\n",
    "                                                    right_on = [\"date\", \"opponent\"])"
   ]
  },
  {
   "cell_type": "code",
   "execution_count": 76,
   "id": "700dda71",
   "metadata": {},
   "outputs": [],
   "source": [
    "# Merges same_prediction_df with with same_row_second_df to include only the rows from same_prediction_df\n",
    "new_predictions_df = same_prediction_df.merge(same_row_second_df, left_on = [\"date\", \"team_x\"],\n",
    "                                              right_on = [\"date\", \"team_x\"])"
   ]
  },
  {
   "cell_type": "code",
   "execution_count": 77,
   "id": "ffe1bfb9",
   "metadata": {},
   "outputs": [],
   "source": [
    "# Creates seperate dataframe for matches with different predicted outcomes for both teams\n",
    "different_predictions_df = same_row_reduced_df.loc[same_row_reduced_df['different_prediction'] == True]\n",
    "\n",
    "# Merges different_predictions_df with new_predictions_df\n",
    "final_df = new_predictions_df.append(different_predictions_df, ignore_index = True)"
   ]
  },
  {
   "cell_type": "code",
   "execution_count": 78,
   "id": "c918270d",
   "metadata": {},
   "outputs": [],
   "source": [
    "# Creates new columns to assess predictions\n",
    "final_df['different_prediction'] = np.where(final_df['prediction_x'] != final_df['prediction_y'], True, False)\n",
    "final_df['lower_odds_winner'] = np.where(\n",
    "    ((final_df['result_x'] == \"W\") & (final_df['teamOdds_x'] < final_df['opponentOdds_x'])\n",
    "     | (final_df['result_x'] == \"L\") & (final_df['teamOdds_x'] > final_df['opponentOdds_x'])), True, False)"
   ]
  },
  {
   "cell_type": "code",
   "execution_count": 79,
   "id": "bf907e0d",
   "metadata": {},
   "outputs": [],
   "source": [
    "# Replaces predictions for matches with the same predicted outcome, selecting the team with the lowest odds as the winner\n",
    "final_df['prediction_x'] = np.where((final_df['different_prediction'] == False)\n",
    "                                    & (final_df['teamOdds_x'] <= final_df['opponentOdds_x']), 1, final_df['prediction_x'])\n",
    "final_df['prediction_x'] = np.where((final_df['different_prediction'] == False)\n",
    "                                    & (final_df['teamOdds_x'] >= final_df['opponentOdds_x']), 0, final_df['prediction_x'])\n",
    "final_df['prediction_y'] = np.where((final_df['different_prediction'] == False)\n",
    "                                    & (final_df['teamOdds_y'] <= final_df['opponentOdds_y']), 1, final_df['prediction_y'])\n",
    "final_df['prediction_y'] = np.where((final_df['different_prediction'] == False)\n",
    "                                    & (final_df['teamOdds_y'] >= final_df['opponentOdds_y']), 0, final_df['prediction_y'])\n",
    "final_df['different_prediction'] = np.where(final_df['prediction_x'] != final_df['prediction_y'], True, False)\n",
    "final_df['correct_prediction'] = np.where((final_df['actual_x'] == final_df['prediction_x'])\n",
    "                                    & (final_df['actual_y'] == final_df['prediction_y']), True, False)"
   ]
  },
  {
   "cell_type": "code",
   "execution_count": 80,
   "id": "8cb44c41",
   "metadata": {},
   "outputs": [],
   "source": [
    "final_df.to_csv(f\"data/predictedResults/Predicted Results - {TEST_TRAIN_SEASON_SPLIT} - Second Iteration.csv\")"
   ]
  },
  {
   "cell_type": "markdown",
   "id": "53ef295c",
   "metadata": {},
   "source": [
    "# Calculate Prediction Accuracy After Second Iteration of Prediction Modelling"
   ]
  },
  {
   "cell_type": "code",
   "execution_count": 81,
   "id": "b1be5c67",
   "metadata": {},
   "outputs": [],
   "source": [
    "correct_predictions_second_iteration = (final_df.correct_prediction.values == True).sum()"
   ]
  },
  {
   "cell_type": "code",
   "execution_count": 82,
   "id": "b0094aee",
   "metadata": {},
   "outputs": [],
   "source": [
    "# Calculates correct prediction percentage for second iteration\n",
    "correct_percentage_second_iteration = correct_predictions_second_iteration / count_matches"
   ]
  },
  {
   "cell_type": "code",
   "execution_count": 83,
   "id": "d56af341",
   "metadata": {},
   "outputs": [
    {
     "name": "stdout",
     "output_type": "stream",
     "text": [
      "### Season: 2022-23 ###\n",
      "\n",
      "Overall Accuracy: 72.37%\n",
      "Overall Precision: 72.0%\n",
      "Home Win Percentage: 67.11%\n",
      "Lower Odds Win Percentage: 71.05%\n",
      "Correct Predictions: 72.37%\n"
     ]
    }
   ],
   "source": [
    "print_prediction_accuracy(TEST_TRAIN_SEASON_SPLIT, accuracy, precision, correct_percentage_second_iteration, home_win_percentage, lower_odds_win_percentage)"
   ]
  },
  {
   "cell_type": "markdown",
   "id": "aeafbef7",
   "metadata": {},
   "source": [
    "# Seperate Functions for Running Predictions on Multiple Datasets"
   ]
  },
  {
   "cell_type": "code",
   "execution_count": 84,
   "id": "67d27698",
   "metadata": {},
   "outputs": [],
   "source": [
    "# Runs prediction modelling\n",
    "def run_modelling(target_df, features, season):\n",
    "    \n",
    "    train = target_df[target_df[\"season\"] != season]\n",
    "    test = target_df[target_df[\"season\"] == season]\n",
    "    \n",
    "    # Fits model using training dataset with selected_columns, with the targetColumn as the goal to predict\n",
    "    rf.fit(train[features], train[\"targetCode\"])\n",
    "    \n",
    "    # Generates predictions using test dataset with features\n",
    "    predictions = rf.predict(test[features])\n",
    "    \n",
    "    # Calculates accuracy and precision scores from predictions\n",
    "    accuracy = accuracy_score(test[\"targetCode\"], predictions)\n",
    "    precision = precision_score(test[\"targetCode\"], predictions)\n",
    "    \n",
    "    # Combines the actual targetCode values with the predicted targetCode values from test dataset\n",
    "    combined_target_codes_df = pd.DataFrame(dict(actual = test[\"targetCode\"],\n",
    "                                                 prediction = predictions), index = test.index)\n",
    "    \n",
    "    # Merges with target_df with a selection of key columns of interest\n",
    "    combined_target_codes_df = combined_target_codes_df.merge(target_df[[\"date\", \"team\", \"opponent\", \"result\",\n",
    "                                                                         \"teamOdds\", \"opponentOdds\", \"teamType\"]],\n",
    "                                                              left_index = True, right_index = True)\n",
    "    \n",
    "    # Creates dataframe with predictions for both teams on each row\n",
    "    same_row_df = combined_target_codes_df.merge(combined_target_codes_df, left_on=[\"date\", \"team\"],\n",
    "                                                 right_on=[\"date\", \"opponent\"])\n",
    "    \n",
    "    return same_row_df, accuracy, precision"
   ]
  },
  {
   "cell_type": "code",
   "execution_count": 91,
   "id": "a0e73a40",
   "metadata": {},
   "outputs": [],
   "source": [
    "# Main script for creating predictions\n",
    "def make_predictions(first_season_start, first_season_end, final_season, run_second_iteration):\n",
    "\n",
    "    # Season\n",
    "    season = f\"{first_season_start}-{first_season_end}\"\n",
    "    \n",
    "    # Loading match data\n",
    "    matches = pd.read_csv(f\"data/calculatedData/Calculated - 2014-{first_season_end}.csv\", index_col = 0)\n",
    "    \n",
    "    # Formatting and Cleaning Data\n",
    "    matches[\"date\"] = pd.to_datetime(matches[\"date\"])\n",
    "    matches[\"team\"] = matches[\"team1Name\"]\n",
    "    matches[\"opponent\"] = matches[\"team2Name\"]\n",
    "\n",
    "    # Merges match data with odds data\n",
    "    matches = pd.merge(matches, odds_df, how = \"left\", on = [\"date\", \"team\", \"opponent\"])\n",
    "    matches[\"oddsFeature\"] = matches[\"opponentOdds\"]\n",
    "    \n",
    "    # Creates list of columns that will be used as features\n",
    "    selected_columns = matches.columns[~matches.columns.isin(main_features_exclude)].tolist()\n",
    "    selected_columns_extended = matches.columns[~matches.columns.isin(extended_features_exclude)].tolist()\n",
    "    \n",
    "    # Scales numeric columns\n",
    "    matches[selected_columns] = scaler.fit_transform(matches[selected_columns])\n",
    "\n",
    "    # Creates new dataframe with one hot encoded columns\n",
    "    transformed = transformer.fit_transform(matches)\n",
    "    matches_one_hot_encoded_df = pd.DataFrame(\n",
    "        transformed, \n",
    "        columns=transformer.get_feature_names()\n",
    "    )\n",
    "    \n",
    "    # Convert numeric columns back to numeric values\n",
    "    numeric_columns = [i for i in matches_one_hot_encoded_df.columns if i not in [\"date\", \"opponent\", \"team\", \"team1Name\", \"team2Name\", \"season\",\n",
    "                                                           \"venue\", \"teamType\", \"day\", \"month\", \"referee\", \"result\"]]\n",
    "    for column in numeric_columns:\n",
    "        matches_one_hot_encoded_df[column] = pd.to_numeric(matches_one_hot_encoded_df[column])\n",
    "\n",
    "    # Gets columns to use as features - including one hot encoded columns\n",
    "    selected_columns = matches_one_hot_encoded_df.columns[~matches_one_hot_encoded_df.columns.isin(main_features_exclude)].tolist()\n",
    "    selected_columns_extended = matches_one_hot_encoded_df.columns[~matches_one_hot_encoded_df.columns.isin(extended_features_exclude)].tolist()\n",
    "    \n",
    "    # Runs prediction modelling on matches_one_hot_encoded_df\n",
    "    first_modelling_df, accuracy, precision = run_modelling(matches_one_hot_encoded_df, selected_columns, season)\n",
    "    \n",
    "    # Creates new columns to assess predictions\n",
    "    first_modelling_df['correct_prediction'] = np.where((first_modelling_df['actual_x'] == first_modelling_df['prediction_x'])\n",
    "                                            & (first_modelling_df['actual_y'] == first_modelling_df['prediction_y']), True, False)\n",
    "    first_modelling_df['different_prediction'] = np.where(first_modelling_df['prediction_x'] != first_modelling_df['prediction_y'], True, False)\n",
    "    first_modelling_df['lower_odds_winner'] = np.where(((first_modelling_df['result_x'] == \"W\") & (first_modelling_df['teamOdds_x'] < first_modelling_df['opponentOdds_x'])\n",
    "                                            | (first_modelling_df['result_x'] == \"L\") & (first_modelling_df['teamOdds_x'] > first_modelling_df['opponentOdds_x'])),\n",
    "                                           True, False)\n",
    "    first_modelling_df['prediction_certainty'] = np.where(first_modelling_df['different_prediction'] == True, 1, 2)\n",
    "\n",
    "    # Filters to remove second column for each match\n",
    "    same_row_reduced_df = first_modelling_df.loc[first_modelling_df['teamType_x'] == \"home\"]\n",
    "    \n",
    "    # Extracts matches where both teams have same outcome and selects date and team name\n",
    "    same_prediction_df = same_row_reduced_df.loc[same_row_reduced_df['different_prediction'] == False][['date', 'team_x']]\n",
    "    \n",
    "    count_matches = len(same_row_reduced_df.index)\n",
    "\n",
    "    # Counts of values from various columns\n",
    "    count_matches = len(same_row_reduced_df.index)\n",
    "    correct_predictions = (same_row_reduced_df.correct_prediction.values == True).sum()\n",
    "    home_wins = (same_row_reduced_df.result_x.values == 'W').sum()\n",
    "    lower_odds_wins = (same_row_reduced_df.lower_odds_winner.values == True).sum()\n",
    "    \n",
    "    # Calculates win accuracy based on various columns\n",
    "    correct_percentage = correct_predictions / count_matches\n",
    "    home_win_percentage = home_wins / count_matches\n",
    "    lower_odds_win_percentage = lower_odds_wins / count_matches\n",
    "    \n",
    "    # Prints analysis of prediction accuracy\n",
    "    season = str(first_season_start) + \"-\" + str(first_season_end)\n",
    "    print_prediction_accuracy(season, accuracy, precision, correct_percentage, home_win_percentage, lower_odds_win_percentage)    \n",
    "    \n",
    "    # If run_second_iteration is true, matches with teams that had the same predicted outcome go through a second iteration of modelling\n",
    "    if run_second_iteration:\n",
    "        second_iteration_df, accuracy, precision = run_modelling(matches_one_hot_encoded_df,\n",
    "                                                                 selected_columns_extended, season)\n",
    "\n",
    "        # Merges same_prediction_df with with second_iteration_df to include only the rows from same_prediction_df\n",
    "        new_predictions_df = same_prediction_df.merge(second_iteration_df, left_on = [\"date\", \"team_x\"],\n",
    "                                              right_on = [\"date\", \"team_x\"])\n",
    "        \n",
    "        # Creates seperate dataframe for matches with different predicted outcomes for both teams\n",
    "        different_predictions_df = same_row_reduced_df.loc[same_row_reduced_df['different_prediction'] == True]\n",
    "\n",
    "        # Merges different_predictions_df with new_predictions_df\n",
    "        final_df = new_predictions_df.append(different_predictions_df, ignore_index = True)\n",
    "    else:\n",
    "        final_df = same_row_reduced_df\n",
    "        \n",
    "    # Creates new columns to assess predictions\n",
    "    final_df['different_prediction'] = np.where(final_df['prediction_x'] != final_df['prediction_y'], True, False)\n",
    "    final_df['lower_odds_winner'] = np.where(\n",
    "        ((final_df['result_x'] == \"W\") & (final_df['teamOdds_x'] < final_df['opponentOdds_x'])\n",
    "         | (final_df['result_x'] == \"L\") & (final_df['teamOdds_x'] > final_df['opponentOdds_x'])), True, False)\n",
    "    final_df['prediction_certainty'] = np.where(final_df['prediction_certainty'] == 1, 1, 2)\n",
    "    \n",
    "    # Replaces predictions for matches with the same predicted outcome, selecting the team with the lowest odds as the winner\n",
    "    final_df['prediction_x'] = np.where((final_df['different_prediction'] == False)\n",
    "                                          & (final_df['teamOdds_x'] <= final_df['opponentOdds_x']), 1, final_df['prediction_x'])\n",
    "    final_df['prediction_x'] = np.where((final_df['different_prediction'] == False)\n",
    "                                          & (final_df['teamOdds_x'] >= final_df['opponentOdds_x']), 0, final_df['prediction_x'])\n",
    "    final_df['prediction_y'] = np.where((final_df['different_prediction'] == False)\n",
    "                                          & (final_df['teamOdds_y'] <= final_df['opponentOdds_y']), 1, final_df['prediction_y'])\n",
    "    final_df['prediction_y'] = np.where((final_df['different_prediction'] == False)\n",
    "                                          & (final_df['teamOdds_y'] >= final_df['opponentOdds_y']), 0, final_df['prediction_y'])\n",
    "    final_df['different_prediction'] = np.where(final_df['prediction_x'] != final_df['prediction_y'], True, False)\n",
    "    final_df['correct_prediction'] = np.where((final_df['actual_x'] == final_df['prediction_x'])\n",
    "                                              & (final_df['actual_y'] == final_df['prediction_y']), True, False)\n",
    "\n",
    "    correct_predictions_second_iteration = (final_df.correct_prediction.values == True).sum()\n",
    "    \n",
    "    # Calculates correct prediction percentage for second iteration\n",
    "    correct_percentage_second_iteration = correct_predictions_second_iteration / count_matches\n",
    "    \n",
    "    print(\"\\n### Secondary Prediction Analysis ###\")\n",
    "    print(f\"Correct Predictions: {round(correct_percentage_second_iteration * 100, 2)}%\\n\")\n",
    "\n",
    "    # Calculates potential winnings from bets\n",
    "    final_df['bet'] = np.where(final_df['prediction_certainty'] == 1, 10, 5)\n",
    "    final_df['return'] = np.where((final_df['different_prediction'] == True) & (final_df['correct_prediction'] == True)\n",
    "                                    & (final_df['prediction_x'] == 1), final_df['teamOdds_x'] * final_df['bet'],\n",
    "                                    np.where((final_df['different_prediction'] == True) & (final_df['correct_prediction'] == True)\n",
    "                                             & (final_df['prediction_x'] == 0), final_df['opponentOdds_x'] * final_df['bet'], 0))\n",
    "\n",
    "    print(f\"Total Amount Bet: £{round(final_df['bet'].sum(), 2)}\")\n",
    "    print(f\"Total Return: £{round(final_df['return'].sum(), 2)}\")\n",
    "    print(f\"Total Profit: £{round(final_df['return'].sum() - final_df['bet'].sum(), 2)}\\n\")\n",
    "    print(\"############################################################\\n\")\n",
    "    return final_df"
   ]
  },
  {
   "cell_type": "code",
   "execution_count": 92,
   "id": "8ceacfcc",
   "metadata": {},
   "outputs": [
    {
     "name": "stdout",
     "output_type": "stream",
     "text": [
      "### Season: 2015-16 ###\n",
      "\n",
      "Overall Accuracy: 74.23%\n",
      "Overall Precision: 75.0%\n",
      "Home Win Percentage: 66.15%\n",
      "Lower Odds Win Percentage: 71.54%\n",
      "Correct Predictions: 68.46%\n",
      "\n",
      "### Secondary Prediction Analysis ###\n",
      "Correct Predictions: 73.85%\n",
      "\n",
      "Total Amount Bet: £1230\n",
      "Total Return: £1264.8\n",
      "Total Profit: £34.8\n",
      "\n",
      "############################################################\n",
      "\n",
      "### Season: 2016-17 ###\n",
      "\n",
      "Overall Accuracy: 68.99%\n",
      "Overall Precision: 69.3%\n",
      "Home Win Percentage: 65.89%\n",
      "Lower Odds Win Percentage: 69.77%\n",
      "Correct Predictions: 61.24%\n",
      "\n",
      "### Secondary Prediction Analysis ###\n",
      "Correct Predictions: 68.99%\n",
      "\n",
      "Total Amount Bet: £1215\n",
      "Total Return: £1133.2\n",
      "Total Profit: £-81.8\n",
      "\n",
      "############################################################\n",
      "\n",
      "### Season: 2017-18 ###\n",
      "\n",
      "Overall Accuracy: 73.7%\n",
      "Overall Precision: 74.42%\n",
      "Home Win Percentage: 60.74%\n",
      "Lower Odds Win Percentage: 71.11%\n",
      "Correct Predictions: 70.37%\n",
      "\n",
      "### Secondary Prediction Analysis ###\n",
      "Correct Predictions: 73.33%\n",
      "\n",
      "Total Amount Bet: £1310\n",
      "Total Return: £1323.15\n",
      "Total Profit: £13.15\n",
      "\n",
      "############################################################\n",
      "\n",
      "### Season: 2018-19 ###\n",
      "\n",
      "Overall Accuracy: 65.93%\n",
      "Overall Precision: 66.13%\n",
      "Home Win Percentage: 64.44%\n",
      "Lower Odds Win Percentage: 70.37%\n",
      "Correct Predictions: 59.26%\n",
      "\n",
      "### Secondary Prediction Analysis ###\n",
      "Correct Predictions: 66.67%\n",
      "\n",
      "Total Amount Bet: £1275\n",
      "Total Return: £1174.25\n",
      "Total Profit: £-100.75\n",
      "\n",
      "############################################################\n",
      "\n",
      "### Season: 2019-20 ###\n",
      "\n",
      "Overall Accuracy: 67.67%\n",
      "Overall Precision: 67.74%\n",
      "Home Win Percentage: 57.89%\n",
      "Lower Odds Win Percentage: 69.17%\n",
      "Correct Predictions: 61.65%\n",
      "\n",
      "### Secondary Prediction Analysis ###\n",
      "Correct Predictions: 68.42%\n",
      "\n",
      "Total Amount Bet: £1265\n",
      "Total Return: £1173.35\n",
      "Total Profit: £-91.65\n",
      "\n",
      "############################################################\n",
      "\n",
      "### Season: 2020-21 ###\n",
      "\n",
      "Overall Accuracy: 73.39%\n",
      "Overall Precision: 74.14%\n",
      "Home Win Percentage: 57.26%\n",
      "Lower Odds Win Percentage: 69.35%\n",
      "Correct Predictions: 68.55%\n",
      "\n",
      "### Secondary Prediction Analysis ###\n",
      "Correct Predictions: 72.58%\n",
      "\n",
      "Total Amount Bet: £1190\n",
      "Total Return: £1208.35\n",
      "Total Profit: £18.35\n",
      "\n",
      "############################################################\n",
      "\n",
      "### Season: 2021-22 ###\n",
      "\n",
      "Overall Accuracy: 70.29%\n",
      "Overall Precision: 69.13%\n",
      "Home Win Percentage: 61.78%\n",
      "Lower Odds Win Percentage: 68.79%\n",
      "Correct Predictions: 63.69%\n",
      "\n",
      "### Secondary Prediction Analysis ###\n",
      "Correct Predictions: 68.15%\n",
      "\n",
      "Total Amount Bet: £1500\n",
      "Total Return: £1476.35\n",
      "Total Profit: £-23.65\n",
      "\n",
      "############################################################\n",
      "\n",
      "### Season: 2022-23 ###\n",
      "\n",
      "Overall Accuracy: 72.37%\n",
      "Overall Precision: 72.0%\n",
      "Home Win Percentage: 67.11%\n",
      "Lower Odds Win Percentage: 71.05%\n",
      "Correct Predictions: 65.79%\n",
      "\n",
      "### Secondary Prediction Analysis ###\n",
      "Correct Predictions: 72.37%\n",
      "\n",
      "Total Amount Bet: £715\n",
      "Total Return: £739.35\n",
      "Total Profit: £24.35\n",
      "\n",
      "############################################################\n",
      "\n"
     ]
    }
   ],
   "source": [
    "first_season_start = 2015\n",
    "first_season_end = 16\n",
    "final_season = 23\n",
    "\n",
    "while first_season_end <= final_season:\n",
    "    combined_target_codes_df = make_predictions(str(first_season_start), str(first_season_end), str(final_season), False)\n",
    "    combined_target_codes_df.to_csv(f\"data/predictedResults/Predicted Results {first_season_start}-{first_season_end}.csv\")\n",
    "    first_season_start += 1\n",
    "    first_season_end += 1"
   ]
  }
 ],
 "metadata": {
  "kernelspec": {
   "display_name": "Python 3 (ipykernel)",
   "language": "python",
   "name": "python3"
  },
  "language_info": {
   "codemirror_mode": {
    "name": "ipython",
    "version": 3
   },
   "file_extension": ".py",
   "mimetype": "text/x-python",
   "name": "python",
   "nbconvert_exporter": "python",
   "pygments_lexer": "ipython3",
   "version": "3.9.13"
  }
 },
 "nbformat": 4,
 "nbformat_minor": 5
}
