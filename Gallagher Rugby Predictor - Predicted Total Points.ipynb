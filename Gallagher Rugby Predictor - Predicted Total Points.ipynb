{
 "cells": [
  {
   "cell_type": "code",
   "execution_count": 263,
   "id": "fc537406",
   "metadata": {},
   "outputs": [
    {
     "data": {
      "application/javascript": [
       " IPython.OutputArea.prototype._should_scroll = function(lines) {\n",
       "     return false;\n",
       " }\n"
      ],
      "text/plain": [
       "<IPython.core.display.Javascript object>"
      ]
     },
     "metadata": {},
     "output_type": "display_data"
    }
   ],
   "source": [
    "%%javascript\n",
    " IPython.OutputArea.prototype._should_scroll = function(lines) {\n",
    "     return false;\n",
    " }"
   ]
  },
  {
   "cell_type": "markdown",
   "id": "dae08ee9",
   "metadata": {},
   "source": [
    "# Imports and Loading Data"
   ]
  },
  {
   "cell_type": "code",
   "execution_count": 264,
   "id": "b9ea232f",
   "metadata": {},
   "outputs": [],
   "source": [
    "import pandas as pd\n",
    "import numpy as np\n",
    "from sklearn.preprocessing import OneHotEncoder\n",
    "from sklearn.compose import make_column_transformer\n",
    "from sklearn.preprocessing import MinMaxScaler\n",
    "from sklearn.ensemble import RandomForestClassifier\n",
    "from sklearn.metrics import accuracy_score\n",
    "from sklearn.metrics import precision_score\n",
    "import warnings"
   ]
  },
  {
   "cell_type": "code",
   "execution_count": 265,
   "id": "729460d5",
   "metadata": {},
   "outputs": [],
   "source": [
    "# import warnings filter\n",
    "from warnings import simplefilter\n",
    "# ignores warnings\n",
    "warnings.simplefilter(action='ignore', category=Warning)"
   ]
  },
  {
   "cell_type": "code",
   "execution_count": 266,
   "id": "49ef041d",
   "metadata": {},
   "outputs": [],
   "source": [
    "# Constant variables for splitting data into test and train datasets\n",
    "ALL_SEASONS = \"2014-23\"\n",
    "TEST_TRAIN_SEASON_SPLIT = \"2022-23\""
   ]
  },
  {
   "cell_type": "code",
   "execution_count": 267,
   "id": "5605c9c4",
   "metadata": {},
   "outputs": [],
   "source": [
    "# Loading match data\n",
    "matches_df = pd.read_csv(f\"data/calculatedData/Calculated - {ALL_SEASONS}.csv\", index_col=0)"
   ]
  },
  {
   "cell_type": "markdown",
   "id": "7381448a",
   "metadata": {},
   "source": [
    "# Formatting and Cleaning Data"
   ]
  },
  {
   "cell_type": "code",
   "execution_count": 268,
   "id": "bde9fa0f",
   "metadata": {},
   "outputs": [],
   "source": [
    "matches_df[\"date\"] = pd.to_datetime(matches_df[\"date\"])\n",
    "\n",
    "# Retains both team names after one hot encoding takes place\n",
    "matches_df[\"team\"] = matches_df[\"team1Name\"]\n",
    "matches_df[\"opponent\"] = matches_df[\"team2Name\"]\n",
    "\n",
    "matches_df.rename(columns = {'team1Points': 'teamPoints', 'team2Points': 'opponentPoints'}, inplace = True)"
   ]
  },
  {
   "cell_type": "code",
   "execution_count": 269,
   "id": "24bd2679",
   "metadata": {},
   "outputs": [],
   "source": [
    "# For filtering out columns that won't be used as features\n",
    "main_features_exclude = [\"team\", \"opponent\", \"season\", \"date\", \"team1Name\", \"team2Name\", \"teamPoints\", \"opponentPoints\",\n",
    "                         \"totalPoints\", \"venue\", \"teamType\", \"referee\", \"result\", \"day\", \"month\", \"targetCode\",\n",
    "                         \"avgLast5BpsTeam1\", \"avgLast5BpsAgainstTeam1\", \"avgLast5BpsTeam2\", \"avgLast5BpsAgainstTeam2\",\n",
    "                         \"avgLast5TriesTeam1\", \"avgLast5ConversionsTeam1\", \"avgLast5PenaltiesTeam1\",\n",
    "                         \"avgLast5DropGoalsTeam1\", \"avgLast5TriesAgainstTeam1\", \"avgLast5ConversionsAgainstTeam1\",\n",
    "                         \"avgLast5PenaltiesAgainstTeam1\", \"avgLast5DropGoalsAgainstTeam1\", \"avgLast5TriesTeam2\",\n",
    "                         \"avgLast5ConversionsTeam2\", \"avgLast5PenaltiesTeam2\", \"avgLast5DropGoalsTeam2\",\n",
    "                         \"avgLast5TriesAgainstTeam2\", \"avgLast5ConversionsAgainstTeam2\",\n",
    "                         \"avgLast5PenaltiesAgainstTeam2\", \"avgLast5DropGoalsAgainstTeam2\"]\n",
    "\n",
    "# For filtering out smaller subset of columns that won't be used as features - for second iteration of prediction modelling\n",
    "extended_features_exclude = [\"team\", \"opponent\", \"season\", \"date\", \"team1Name\", \"team2Name\", \"teamPoints\",\n",
    "                             \"opponentPoints\", \"totalPoints\",  \"venue\", \"teamType\", \"referee\", \"result\", \"day\",\n",
    "                             \"month\", \"targetCode\"]"
   ]
  },
  {
   "cell_type": "code",
   "execution_count": 270,
   "id": "a72baef5",
   "metadata": {},
   "outputs": [
    {
     "data": {
      "text/plain": [
       "Index(['avgLast5ScoresTeam1', 'avgLast5ScoresAgainstTeam1',\n",
       "       'avgLast5ScoresTeam2', 'avgLast5ScoresAgainstTeam2', 'wonLastGameTeam1',\n",
       "       'wonLastGameTeam2', 'team1LastSeasonStanding',\n",
       "       'team2LastSeasonStanding'],\n",
       "      dtype='object')"
      ]
     },
     "execution_count": 270,
     "metadata": {},
     "output_type": "execute_result"
    }
   ],
   "source": [
    "# Creates list of columns that will be used as features\n",
    "main_features = matches_df.columns[~matches_df.columns.isin(main_features_exclude)]\n",
    "main_features"
   ]
  },
  {
   "cell_type": "code",
   "execution_count": 271,
   "id": "11c5d9bf",
   "metadata": {},
   "outputs": [],
   "source": [
    "# Scales numeric columns\n",
    "scaler = MinMaxScaler()\n",
    "matches_df[main_features] = scaler.fit_transform(matches_df[main_features])"
   ]
  },
  {
   "cell_type": "code",
   "execution_count": 272,
   "id": "8af676f0",
   "metadata": {},
   "outputs": [],
   "source": [
    "# One hot encode categorical columns\n",
    "transformer = make_column_transformer(\n",
    "    (OneHotEncoder(sparse = False), ['team1Name', 'team2Name', 'venue', 'month']),\n",
    "    remainder = 'passthrough')\n",
    "\n",
    "# Creates new dataframe with one hot encoded columns\n",
    "transformed = transformer.fit_transform(matches_df)\n",
    "matches_one_hot_encoded_df = pd.DataFrame(\n",
    "    transformed, \n",
    "    columns = transformer.get_feature_names()\n",
    ")"
   ]
  },
  {
   "cell_type": "code",
   "execution_count": 273,
   "id": "b642edb4",
   "metadata": {},
   "outputs": [],
   "source": [
    "# Convert numeric columns back to numeric values\n",
    "numeric_columns = [i for i in matches_one_hot_encoded_df.columns if i not in [\"date\", \"team\", \"opponent\", \"team1Name\",\n",
    "                                                                              \"team2Name\", \"season\", \"venue\",\n",
    "                                                                              \"teamType\", \"day\", \"month\", \"referee\",\n",
    "                                                                              \"result\"]]\n",
    "for column in numeric_columns:\n",
    "    matches_one_hot_encoded_df[column] = pd.to_numeric(matches_one_hot_encoded_df[column])"
   ]
  },
  {
   "cell_type": "code",
   "execution_count": 274,
   "id": "1c89b5e3",
   "metadata": {},
   "outputs": [],
   "source": [
    "# Gets columns to use as features - including one hot encoded columns\n",
    "main_features = matches_one_hot_encoded_df.columns[~matches_one_hot_encoded_df.columns.isin(main_features_exclude)].tolist()\n",
    "extended_features = matches_one_hot_encoded_df.columns[~matches_one_hot_encoded_df.columns.isin(extended_features_exclude)].tolist()"
   ]
  },
  {
   "cell_type": "markdown",
   "id": "9c356451",
   "metadata": {},
   "source": [
    "# Training Model and Generating Predictions"
   ]
  },
  {
   "cell_type": "code",
   "execution_count": 275,
   "id": "92277441",
   "metadata": {},
   "outputs": [],
   "source": [
    "rf = RandomForestClassifier(n_estimators = 100, min_samples_split = 10, random_state = 1)"
   ]
  },
  {
   "cell_type": "code",
   "execution_count": 276,
   "id": "79ddd52d",
   "metadata": {},
   "outputs": [],
   "source": [
    "train = matches_one_hot_encoded_df[matches_one_hot_encoded_df[\"season\"] != TEST_TRAIN_SEASON_SPLIT]\n",
    "test = matches_one_hot_encoded_df[matches_one_hot_encoded_df[\"season\"] == TEST_TRAIN_SEASON_SPLIT]"
   ]
  },
  {
   "cell_type": "code",
   "execution_count": 277,
   "id": "7dc4450b",
   "metadata": {},
   "outputs": [
    {
     "data": {
      "text/plain": [
       "RandomForestClassifier(min_samples_split=10, random_state=1)"
      ]
     },
     "execution_count": 277,
     "metadata": {},
     "output_type": "execute_result"
    }
   ],
   "source": [
    "# Fits model using training dataset with main_features, with the targetColumn as the goal to predict\n",
    "rf.fit(train[main_features], train[\"totalPoints\"])"
   ]
  },
  {
   "cell_type": "code",
   "execution_count": 278,
   "id": "a07be5f5",
   "metadata": {},
   "outputs": [],
   "source": [
    "# Generates predictions using test dataset with main_features\n",
    "predictions = rf.predict(test[main_features])"
   ]
  },
  {
   "cell_type": "code",
   "execution_count": 279,
   "id": "95742f0b",
   "metadata": {},
   "outputs": [],
   "source": [
    "# Combines the actual targetCode values with the predicted targetCode values from test dataset\n",
    "combined_target_codes_df = pd.DataFrame(dict(actual = test[\"totalPoints\"], prediction = predictions))\n",
    "\n",
    "# Merges with matches_one_hot_encoded_df and uses some key columns of interest\n",
    "combined_target_codes_df = combined_target_codes_df.merge(matches_one_hot_encoded_df[[\"date\", \"team\", \"opponent\",\n",
    "                                                                                      \"teamPoints\", \"opponentPoints\",\n",
    "                                                                                      \"result\", \"teamType\"]],\n",
    "                                                          left_index=True, right_index=True)"
   ]
  },
  {
   "cell_type": "code",
   "execution_count": 280,
   "id": "935267c3",
   "metadata": {},
   "outputs": [],
   "source": [
    "# Creates dataframe with predictions for both teams on the same row\n",
    "same_row_df = combined_target_codes_df.merge(combined_target_codes_df, left_on = [\"date\", \"team\"],\n",
    "                                             right_on = [\"date\", \"opponent\"])\n",
    "\n",
    "# Filters to remove second row for each match\n",
    "same_row_reduced_df = same_row_df.loc[same_row_df['teamType_x'] == \"home\"]"
   ]
  },
  {
   "cell_type": "code",
   "execution_count": 281,
   "id": "f712b157",
   "metadata": {},
   "outputs": [],
   "source": [
    "same_row_reduced_df['points_difference_in_predictions'] = same_row_reduced_df['actual_x'] - same_row_reduced_df['prediction_x']"
   ]
  },
  {
   "cell_type": "code",
   "execution_count": 282,
   "id": "4c7adf52",
   "metadata": {},
   "outputs": [],
   "source": [
    "same_row_reduced_df.to_csv(f\"data/predictedResults/points/Predicted Total Points - {TEST_TRAIN_SEASON_SPLIT} - First Iteration.csv\")"
   ]
  },
  {
   "cell_type": "code",
   "execution_count": 283,
   "id": "f3fc1b78",
   "metadata": {},
   "outputs": [
    {
     "name": "stdout",
     "output_type": "stream",
     "text": [
      "Prediction Modelling Complete\n"
     ]
    }
   ],
   "source": [
    "print(\"Prediction Modelling Complete\")"
   ]
  },
  {
   "cell_type": "markdown",
   "id": "aeafbef7",
   "metadata": {},
   "source": [
    "# Seperate Functions for Running Predictions on Multiple Datasets"
   ]
  },
  {
   "cell_type": "code",
   "execution_count": 284,
   "id": "67d27698",
   "metadata": {},
   "outputs": [],
   "source": [
    "# Runs prediction modelling\n",
    "def run_modelling(target_df, features, season):\n",
    "    \n",
    "    train = target_df[target_df[\"season\"] != season]\n",
    "    test = target_df[target_df[\"season\"] == season]\n",
    "    \n",
    "    # Fits model using training dataset with selected_columns, with the targetColumn as the goal to predict\n",
    "    rf.fit(train[features], train[\"totalPoints\"])\n",
    "    \n",
    "    # Generates predictions using test dataset with features\n",
    "    predictions = rf.predict(test[features])\n",
    "    \n",
    "    # Combines the actual targetCode values with the predicted targetCode values from test dataset\n",
    "    combined_target_codes_df = pd.DataFrame(dict(actual = test[\"totalPoints\"],\n",
    "                                                 prediction = predictions), index = test.index)\n",
    "    \n",
    "    # Merges with target_df with a selection of key columns of interest\n",
    "    combined_target_codes_df = combined_target_codes_df.merge(target_df[[\"date\", \"team\", \"opponent\", \"teamPoints\",\n",
    "                                                                         \"opponentPoints\", \"result\", \"teamType\"]],\n",
    "                                                              left_index = True, right_index = True)\n",
    "    \n",
    "    # Creates dataframe with predictions for both teams on each row\n",
    "    same_row_df = combined_target_codes_df.merge(combined_target_codes_df, left_on=[\"date\", \"team\"],\n",
    "                                                 right_on=[\"date\", \"opponent\"])\n",
    "    \n",
    "    return same_row_df"
   ]
  },
  {
   "cell_type": "code",
   "execution_count": 285,
   "id": "a0e73a40",
   "metadata": {},
   "outputs": [],
   "source": [
    "# Main script for creating predictions\n",
    "def make_predictions(first_season_start, first_season_end, final_season, run_second_iteration):\n",
    "\n",
    "    # Season\n",
    "    season = f\"{first_season_start}-{first_season_end}\"\n",
    "    \n",
    "    # Loading match data\n",
    "    matches_df = pd.read_csv(f\"data/calculatedData/Calculated - 2014-{first_season_end}.csv\", index_col = 0)\n",
    "    \n",
    "    # Formatting and Cleaning Data\n",
    "    matches_df[\"date\"] = pd.to_datetime(matches_df[\"date\"])\n",
    "    \n",
    "    # Retains both team names after one hot encoding takes place\n",
    "    matches_df[\"team\"] = matches_df[\"team1Name\"]\n",
    "    matches_df[\"opponent\"] = matches_df[\"team2Name\"]\n",
    "    \n",
    "    matches_df.rename(columns = {'team1Points': 'teamPoints', 'team2Points': 'opponentPoints'}, inplace = True)\n",
    "    \n",
    "    # Creates list of columns that will be used as features\n",
    "    selected_columns = matches_df.columns[~matches_df.columns.isin(main_features_exclude)].tolist()\n",
    "    selected_columns_extended = matches_df.columns[~matches_df.columns.isin(extended_features_exclude)].tolist()\n",
    "    \n",
    "    # Scales numeric columns\n",
    "    matches_df[selected_columns] = scaler.fit_transform(matches_df[selected_columns])\n",
    "\n",
    "    # Creates new dataframe with one hot encoded columns\n",
    "    transformed = transformer.fit_transform(matches_df)\n",
    "    matches_one_hot_encoded_df = pd.DataFrame(\n",
    "        transformed, \n",
    "        columns = transformer.get_feature_names()\n",
    "    )\n",
    "    \n",
    "    # Convert numeric columns back to numeric values\n",
    "    numeric_columns = [i for i in matches_one_hot_encoded_df.columns if i not in [\"date\", \"opponent\", \"team\", \"team1Name\", \"team2Name\", \"season\",\n",
    "                                                           \"venue\", \"teamType\", \"day\", \"month\", \"referee\", \"result\"]]\n",
    "    for column in numeric_columns:\n",
    "        matches_one_hot_encoded_df[column] = pd.to_numeric(matches_one_hot_encoded_df[column])\n",
    "\n",
    "    # Gets columns to use as features - including one hot encoded columns\n",
    "    selected_columns = matches_one_hot_encoded_df.columns[~matches_one_hot_encoded_df.columns.isin(main_features_exclude)].tolist()\n",
    "    selected_columns_extended = matches_one_hot_encoded_df.columns[~matches_one_hot_encoded_df.columns.isin(extended_features_exclude)].tolist()\n",
    "    \n",
    "    # Runs prediction modelling on matches_one_hot_encoded_df\n",
    "    first_modelling_df = run_modelling(matches_one_hot_encoded_df, selected_columns, season)\n",
    "\n",
    "    # Filters to remove second column for each match\n",
    "    same_row_reduced_df = first_modelling_df.loc[first_modelling_df['teamType_x'] == \"home\"]\n",
    "    \n",
    "    same_row_reduced_df['points_difference_in_predictions'] = same_row_reduced_df['actual_x'] - same_row_reduced_df['prediction_x']\n",
    "\n",
    "    return same_row_reduced_df"
   ]
  },
  {
   "cell_type": "code",
   "execution_count": 286,
   "id": "8ceacfcc",
   "metadata": {},
   "outputs": [],
   "source": [
    "first_season_start = 2015\n",
    "first_season_end = 16\n",
    "final_season = 23\n",
    "\n",
    "while first_season_end <= final_season:\n",
    "    combined_target_codes_df = make_predictions(str(first_season_start), str(first_season_end), str(final_season), False)\n",
    "    combined_target_codes_df.to_csv(f\"data/predictedResults/points/Predicted Total Points {first_season_start}-{first_season_end}.csv\")\n",
    "    first_season_start += 1\n",
    "    first_season_end += 1"
   ]
  },
  {
   "cell_type": "code",
   "execution_count": 287,
   "id": "5fe4c33b",
   "metadata": {},
   "outputs": [
    {
     "name": "stdout",
     "output_type": "stream",
     "text": [
      "Prediction Modelling Complete\n"
     ]
    }
   ],
   "source": [
    "print(\"Prediction Modelling Complete\")"
   ]
  }
 ],
 "metadata": {
  "kernelspec": {
   "display_name": "Python 3 (ipykernel)",
   "language": "python",
   "name": "python3"
  },
  "language_info": {
   "codemirror_mode": {
    "name": "ipython",
    "version": 3
   },
   "file_extension": ".py",
   "mimetype": "text/x-python",
   "name": "python",
   "nbconvert_exporter": "python",
   "pygments_lexer": "ipython3",
   "version": "3.9.13"
  }
 },
 "nbformat": 4,
 "nbformat_minor": 5
}
